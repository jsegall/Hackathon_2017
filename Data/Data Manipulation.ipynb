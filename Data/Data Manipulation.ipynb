{
 "cells": [
  {
   "cell_type": "code",
   "execution_count": 7,
   "metadata": {},
   "outputs": [],
   "source": [
    "##########################\n",
    "# Aging Atlas Data file \n",
    "##########################\n",
    "digitalAging = []\n",
    "with open('digital_ageing_atlas_data.txt', encoding='utf-8') as infile:\n",
    "    for line in infile:\n",
    "        line = line.strip().split(\"\\t\")\n",
    "        digitalAging.append(line)\n"
   ]
  },
  {
   "cell_type": "code",
   "execution_count": 5,
   "metadata": {},
   "outputs": [
    {
     "data": {
      "text/plain": [
       "4251"
      ]
     },
     "execution_count": 5,
     "metadata": {},
     "output_type": "execute_result"
    }
   ],
   "source": [
    "len(digitalAging)"
   ]
  },
  {
   "cell_type": "code",
   "execution_count": 10,
   "metadata": {},
   "outputs": [
    {
     "data": {
      "text/plain": [
       "['DAA1359',\n",
       " '4-aminobutyrate aminotransferase',\n",
       " 'molecular',\n",
       " 'Mus musculus',\n",
       " 'male/female',\n",
       " '3',\n",
       " '23',\n",
       " '',\n",
       " 'Hematological System',\n",
       " 'Abat (4-aminobutyrate aminotransferase)',\n",
       " '',\n",
       " 'equation',\n",
       " 'Gene Expression Level',\n",
       " '20',\n",
       " 'Microarray',\n",
       " 'Log2',\n",
       " '45.0',\n",
       " '0.0002766321860853940000000',\n",
       " '',\n",
       " '',\n",
       " '',\n",
       " '2882: Rossi et al. (2005) \"Cell intrinsic alterations underlie hematopoietic stem cell aging.\"  Proc. Natl. Acad. Sci. U.S.A. 102(26):9194-9199 (15967997)']"
      ]
     },
     "execution_count": 10,
     "metadata": {},
     "output_type": "execute_result"
    }
   ],
   "source": [
    "digitalAging[1]"
   ]
  },
  {
   "cell_type": "code",
   "execution_count": null,
   "metadata": {
    "collapsed": true
   },
   "outputs": [],
   "source": []
  }
 ],
 "metadata": {
  "kernelspec": {
   "display_name": "Python 3",
   "language": "python",
   "name": "python3"
  },
  "language_info": {
   "codemirror_mode": {
    "name": "ipython",
    "version": 3
   },
   "file_extension": ".py",
   "mimetype": "text/x-python",
   "name": "python",
   "nbconvert_exporter": "python",
   "pygments_lexer": "ipython3",
   "version": "3.6.1"
  }
 },
 "nbformat": 4,
 "nbformat_minor": 2
}
