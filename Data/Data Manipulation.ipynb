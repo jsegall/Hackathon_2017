{
 "cells": [
  {
   "cell_type": "code",
   "execution_count": 62,
   "metadata": {},
   "outputs": [],
   "source": [
    "##########################\n",
    "# Aging Atlas Data file \n",
    "##########################\n",
    "digitalAging = []\n",
    "with open('digital_ageing_atlas_data.txt', encoding='utf-8') as infile:\n",
    "    for line in infile:\n",
    "        line = line.strip().split(\"\\t\")\n",
    "        #if \"DAA\" in line[0]: \n",
    "        digitalAging.append(line)\n"
   ]
  },
  {
   "cell_type": "code",
   "execution_count": 63,
   "metadata": {},
   "outputs": [
    {
     "data": {
      "text/plain": [
       "['Identifier',\n",
       " 'Change name',\n",
       " 'Change type',\n",
       " 'Species',\n",
       " 'Change gender',\n",
       " 'Age change starts',\n",
       " 'Age change ends',\n",
       " 'Description',\n",
       " 'Tissues',\n",
       " 'Gene',\n",
       " 'Properties',\n",
       " 'Type of data',\n",
       " 'Process measured',\n",
       " 'Sample size',\n",
       " 'Method of collection',\n",
       " 'Data transforms',\n",
       " 'Percentage change',\n",
       " 'P value',\n",
       " 'Coefficiant',\n",
       " 'Intercept',\n",
       " 'Relationship parent identifiers',\n",
       " 'References (with LibAge reference ID in brackets)']"
      ]
     },
     "execution_count": 63,
     "metadata": {},
     "output_type": "execute_result"
    }
   ],
   "source": [
    "digitalAging[0]"
   ]
  },
  {
   "cell_type": "code",
   "execution_count": 58,
   "metadata": {
    "scrolled": true
   },
   "outputs": [],
   "source": [
    "count = 0 \n",
    "humanDigitalAging = []\n",
    "tissueType= []\n",
    "dataTypes = []\n",
    "for i in digitalAging:\n",
    "    if len(i) > 16:\n",
    "        if \"Homo\" in i[3]:\n",
    "                humanDigitalAging.append(i)\n",
    "                tissueType.append(i[8])\n",
    "                dataTypes.append(i[12])"
   ]
  },
  {
   "cell_type": "code",
   "execution_count": 61,
   "metadata": {},
   "outputs": [
    {
     "data": {
      "text/plain": [
       "{'',\n",
       " 'DNA Methylation',\n",
       " 'Gene Expression Level',\n",
       " 'Hormone Level',\n",
       " 'Incidence',\n",
       " 'Morbidity',\n",
       " 'Protein level',\n",
       " 'mRNA Editing',\n",
       " 'miRNA Level'}"
      ]
     },
     "execution_count": 61,
     "metadata": {},
     "output_type": "execute_result"
    }
   ],
   "source": [
    "set(dataTypes)"
   ]
  },
  {
   "cell_type": "code",
   "execution_count": 65,
   "metadata": {},
   "outputs": [
    {
     "data": {
      "text/plain": [
       "{'Adipose Tissue',\n",
       " 'Adipose Tissue, Skeletal Muscle, Skin, Leukocyte',\n",
       " 'Adrenal Gland',\n",
       " 'Alimentary System',\n",
       " 'Alimentary System, Smooth Muscle',\n",
       " 'Alveolus',\n",
       " 'Anus',\n",
       " 'Aorta',\n",
       " 'Arterial Intima',\n",
       " 'Artery',\n",
       " 'B Cell',\n",
       " 'Bladder',\n",
       " 'Blood',\n",
       " 'Blood Brain Barrier',\n",
       " 'Blood, Immune System',\n",
       " 'Blood, Neutrophil',\n",
       " 'Bone',\n",
       " 'Bone Marrow',\n",
       " 'Bone Marrow, B Cell',\n",
       " 'Brain',\n",
       " 'Brain, Cerebral Cortex',\n",
       " 'Cardiovascular System',\n",
       " 'Cardiovascular System, Endocrine System',\n",
       " 'Cartilage',\n",
       " 'Central Nervous System',\n",
       " 'Cerebellum',\n",
       " 'Cerebral Cortex',\n",
       " 'Cervix',\n",
       " 'Cochlea',\n",
       " 'Colon',\n",
       " 'Corpus Callosum, White Matter',\n",
       " 'Dermis',\n",
       " 'Dermis, Subcutaneous',\n",
       " 'Endocrine System',\n",
       " 'Epidermis',\n",
       " 'Epidermis, Dermis',\n",
       " 'Eyelid',\n",
       " 'Female Reproductive System, Endocrine System',\n",
       " 'Femur',\n",
       " 'Foreskin',\n",
       " 'Frontal Lobe',\n",
       " 'Gastric Mucosa',\n",
       " 'Glomerulus',\n",
       " 'Grey Matter',\n",
       " 'Hair',\n",
       " 'Hair Follicle',\n",
       " 'Heart',\n",
       " 'Heart, Artery',\n",
       " 'Heart, Kidney',\n",
       " 'Heart, Kidney, Skeletal Muscle, Cerebral Cortex, Cerebellum',\n",
       " 'Heart, Skin, Brain',\n",
       " 'Hematological System',\n",
       " 'Hematopoietic Stem Cells',\n",
       " 'Hippocampus',\n",
       " 'Hypopharynx',\n",
       " 'Ileum',\n",
       " 'Immune System',\n",
       " 'Integument System',\n",
       " 'Intestine',\n",
       " 'Jejunum',\n",
       " 'Joint',\n",
       " 'Kidney',\n",
       " 'Large Intestine',\n",
       " 'Larynx',\n",
       " 'Left Ventricle',\n",
       " 'Lens',\n",
       " 'Leukocyte',\n",
       " 'Liver',\n",
       " 'Liver And Biliary System',\n",
       " 'Lung',\n",
       " 'Lung, Oral Cavity, Pharynx, Oesophagus, Stomach, Intestine, Epidermis',\n",
       " 'Lymphocytes',\n",
       " 'Lymphoreticular System',\n",
       " 'Macrophage',\n",
       " 'Macrophage, Leukocyte',\n",
       " 'Male Reproductive System',\n",
       " 'Mammary Gland',\n",
       " 'Memory B Cell',\n",
       " 'Mesenchymal Stem Cell',\n",
       " 'Muscle',\n",
       " 'Musculoskeletal System',\n",
       " 'Myeloid Progenitor Cell',\n",
       " 'Myometrium',\n",
       " 'Natural Killer Cell',\n",
       " 'Naïve T Cell',\n",
       " 'Nephron',\n",
       " 'Nervous System',\n",
       " 'Neutrophil',\n",
       " 'Neutrophil, Dendritic Cell',\n",
       " 'Oesophagus',\n",
       " 'Oesophagus, Stomach',\n",
       " 'Oesophagus, Stomach, Intestine',\n",
       " 'Oral Cavity',\n",
       " 'Oropharynx, Oesophagus',\n",
       " 'Ovary',\n",
       " 'Pancreas',\n",
       " 'Parietal Lobe',\n",
       " 'Pituitary Gland, Adrenal Gland, Hypothalamus',\n",
       " 'Plasma',\n",
       " 'Plasma, Adrenal Gland',\n",
       " 'Plasma, Alimentary System',\n",
       " 'Plasma, Pineal Gland',\n",
       " 'Pons',\n",
       " 'Prefrontal Cortex',\n",
       " 'Prostate',\n",
       " 'Rectum, Anus',\n",
       " 'Renal Tubule',\n",
       " 'Renal Tubule, Glomerulus',\n",
       " 'Renal Vasculature',\n",
       " 'Respiratory System',\n",
       " 'Respiratory System, Muscle',\n",
       " 'Respiratory System, Musculoskeletal System',\n",
       " 'Respiratory System, Nervous System',\n",
       " 'Salivary Gland',\n",
       " 'Skeletal Muscle',\n",
       " 'Skin',\n",
       " 'Small Intestine',\n",
       " 'Spine',\n",
       " 'Stomach',\n",
       " 'Stomach, Small Intestine',\n",
       " 'Stromal Cell',\n",
       " 'Subcutaneous',\n",
       " 'Substantia Nigra',\n",
       " 'Synovium',\n",
       " 'T Cell',\n",
       " 'T Cell Progenitor',\n",
       " 'T Regulatory Cell',\n",
       " 'Temporal Lobe',\n",
       " 'Tendon',\n",
       " 'Thorax, Cartilage',\n",
       " 'Thymus',\n",
       " 'Tongue',\n",
       " 'Tooth',\n",
       " 'Ulna',\n",
       " 'Urinary System',\n",
       " 'Uterus',\n",
       " 'Venous Intima',\n",
       " 'Visual Apparatus',\n",
       " 'Vitreous Humor',\n",
       " 'White Matter',\n",
       " 'Whole Body',\n",
       " 'Whole Body, Brain'}"
      ]
     },
     "execution_count": 65,
     "metadata": {},
     "output_type": "execute_result"
    }
   ],
   "source": [
    "set(tissueType)"
   ]
  },
  {
   "cell_type": "code",
   "execution_count": null,
   "metadata": {
    "collapsed": true
   },
   "outputs": [],
   "source": []
  }
 ],
 "metadata": {
  "kernelspec": {
   "display_name": "Python 3",
   "language": "python",
   "name": "python3"
  },
  "language_info": {
   "codemirror_mode": {
    "name": "ipython",
    "version": 3
   },
   "file_extension": ".py",
   "mimetype": "text/x-python",
   "name": "python",
   "nbconvert_exporter": "python",
   "pygments_lexer": "ipython3",
   "version": "3.6.1"
  }
 },
 "nbformat": 4,
 "nbformat_minor": 2
}
